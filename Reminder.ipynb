{
 "cells": [
  {
   "cell_type": "code",
   "execution_count": null,
   "metadata": {},
   "outputs": [],
   "source": [
    "class Second_level_thinking():\n",
    "\n",
    "    '''\n",
    "    Reminder:\n",
    "\n",
    "    Evaluate: Cuurent Asset Price(Market Consensus),Expectation, Probability \n",
    "\n",
    "    1.What is the range of likely future outcomes?\n",
    "    2.Which outcome do I think will occur?\n",
    "    3.What's the probability I'm right? \n",
    "    4.What does the consensus think? \n",
    "    5.How does my expectation differ from the consensus? \n",
    "    6.How does the current price for the asset comport with the consensus view of the future, and with mine? \n",
    "    7.Is the consensus psychology that's incorporated in the price too bullish or bearish? \n",
    "    8.What will happen to the asset's price if the consensus turns out to be right, and what if I'm right?\n",
    "    9.Why should a bargain exist despite the presence of thousands of investors \n",
    "      who stand ready and willing to bid up the price of anything that's too cheap?\n",
    "    10.If the return appears so generous in proportion to the risk, might you be overlooking some hidden risk? \n",
    "    11.Why would the seller of the asset be willing to part with it at a price from \n",
    "       which it will give you an excessive return?\n",
    "    12.Do you really know more about the asset than the seller does? \n",
    "    13.If it's such a great proposition, why hasn't someone else snapped it up?\n",
    "\n",
    "\n",
    "    '''\n",
    "\n",
    "    def self():\n",
    "        return ''\n",
    "    \n",
    "class First_level_thinking():\n",
    "    '''\n",
    "    Here I listed what factors I will take into consideration:\n",
    "\n",
    "    1. Who buys the stock recently? buy side, foreign investment etc..\n",
    "    2. The stock prices volitile in comparision to the average index\n",
    "    3. Is there any huge money inflowing into the stock? \n",
    "    4. What's the maintaining rate of financing and\n",
    "    5. News\n",
    "    6. How many people are dealing with odd lot trading\n",
    "    '''\n"
   ]
  }
 ],
 "metadata": {
  "language_info": {
   "name": "python"
  },
  "orig_nbformat": 4
 },
 "nbformat": 4,
 "nbformat_minor": 2
}
