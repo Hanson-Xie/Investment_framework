{
 "cells": [
  {
   "cell_type": "code",
   "execution_count": 15,
   "metadata": {},
   "outputs": [],
   "source": [
    "import pandas as pd\n",
    "from bs4 import BeautifulSoup\n",
    "\n",
    "with open(r\"C:\\Users\\s3309\\Desktop\\Investment\\Material\\tifrs-fr1-m1-ci-cr-2330-2022Q2.html\", encoding=\"UTF-8\") as f:\n",
    "    data=f.read()\n",
    "soup = BeautifulSoup(data,'html.parser')\n",
    "\n",
    "\n",
    "adsheet=soup.find_all('table')[0]\n",
    "time_window=[]\n",
    "for i in adsheet.find_all('tr')[1].find_all('th')[2:]:\n",
    "    time_window.append(i.find(class_='en').text)\n",
    "\n",
    "\n",
    "cate=adsheet.find_all('tr')[2].find_all('td')[1].find(class_='en').text\n",
    "sub_cate=adsheet.find_all('tr')[3].find_all('td')[1].find(class_='en').text\n"
   ]
  },
  {
   "cell_type": "code",
   "execution_count": 16,
   "metadata": {},
   "outputs": [
    {
     "data": {
      "text/plain": [
       "'\\u3000Current assets'"
      ]
     },
     "execution_count": 16,
     "metadata": {},
     "output_type": "execute_result"
    }
   ],
   "source": [
    "sub_cate"
   ]
  },
  {
   "cell_type": "code",
   "execution_count": null,
   "metadata": {},
   "outputs": [],
   "source": []
  }
 ],
 "metadata": {
  "kernelspec": {
   "display_name": "dlenv",
   "language": "python",
   "name": "dlenv"
  },
  "language_info": {
   "codemirror_mode": {
    "name": "ipython",
    "version": 3
   },
   "file_extension": ".py",
   "mimetype": "text/x-python",
   "name": "python",
   "nbconvert_exporter": "python",
   "pygments_lexer": "ipython3",
   "version": "3.9.5"
  },
  "orig_nbformat": 4
 },
 "nbformat": 4,
 "nbformat_minor": 2
}
