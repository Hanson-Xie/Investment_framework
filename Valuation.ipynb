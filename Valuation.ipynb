{
 "cells": [
  {
   "cell_type": "code",
   "execution_count": 26,
   "metadata": {},
   "outputs": [],
   "source": [
    "import pandas as pd\n",
    "from bs4 import BeautifulSoup\n",
    "import re\n",
    "import os\n",
    "import zipfile\n",
    "import shutil\n",
    "import multiprocessing\n",
    "\n",
    "file_name=r'C:\\Users\\s3309\\Desktop\\Investment\\html_files\\tifrs-fr1-m1-ci-cr-2330-2022Q2.html'\n",
    "\n",
    "def html_preprocess(file_name):\n",
    "    with open(file_name, encoding=\"UTF-8\") as f:\n",
    "        data=f.read()\n",
    "    soup = BeautifulSoup(data,'html.parser')\n",
    "\n",
    "    data_all=[[] for i in range(5)]\n",
    "\n",
    "    for sht in range(3):\n",
    "        sheet=soup.find_all('table')[sht]\n",
    "        cate=sheet.find_all('tr')[0].find_all('th')[0].find(class_='en').text.strip()\n",
    "\n",
    "        i=1\n",
    "        while i< len(sheet.find_all('tr')):\n",
    "            if i==1:\n",
    "                time_window=[]\n",
    "                for time in sheet.find_all('tr')[i].find_all('th')[2:]:\n",
    "                    time_window.append(time.find(class_='en').text)\n",
    "\n",
    "            elif sheet.find_all('tr')[i].find_all('td')[0].text=='' and re.search(r'\\d',sheet.find_all('tr')[i+1].find_all('td')[0].text):\n",
    "                sub_cate=sheet.find_all('tr')[i].find_all('td')[1].find(class_='en').text.strip()\n",
    "\n",
    "            elif re.search(r'\\d',sheet.find_all('tr')[i].find_all('td')[0].text):\n",
    "\n",
    "                for j,n in enumerate(sheet.find_all('tr')[i].find_all('td')[2:]):\n",
    "                    data_all[0].append(cate)\n",
    "                    data_all[1].append(sub_cate)\n",
    "                    data_all[2].append(sheet.find_all('tr')[i].find_all('td')[1].find(class_='en').text.strip())\n",
    "                    data_all[3].append(time_window[j])\n",
    "                    data_all[4].append(n.text)\n",
    "            i+=1\n",
    "\n",
    "    table=pd.DataFrame()\n",
    "    for i,col in enumerate(['Category','Sub-Category','Subject','Period','$']):\n",
    "        table[col]=data_all[i]\n",
    "\n",
    "    return table\n",
    "\n",
    "def xml_preprocess(file_name):\n",
    "    xml_df=pd.read_xml(file_name)\n",
    "    xml_df.dropna(subset=['unitRef'],inplace=True)\n",
    "    ui=xml_df.columns.to_list().index('unitRef')\n",
    "    target_col=xml_df.columns[ui+1:]\n",
    "    xml_df['Subject']=pd.NA\n",
    "    xml_df['$']=pd.NA\n",
    "\n",
    "    for col in target_col:\n",
    "        xml_df.loc[~xml_df[col].isna(),'Subject']=col\n",
    "        xml_df['$'].fillna(xml_df[col],inplace=True)\n",
    "        xml_df.drop(col,axis=1,inplace=True)\n",
    "\n",
    "    xml_df=xml_df[['contextRef','Subject','$']]\n",
    "    xml_df['contextRef']=xml_df['contextRef'].replace(r'From','',regex=True)\n",
    "\n",
    "    return xml_df\n"
   ]
  },
  {
   "cell_type": "code",
   "execution_count": 22,
   "metadata": {},
   "outputs": [],
   "source": [
    "#unzip file\n",
    "import os\n",
    "import zipfile\n",
    "\n",
    "for root, dirs, files in os.walk(r\"C:\\Users\\s3309\\Desktop\\Investment\\todo\"):\n",
    "    for file in files:\n",
    "        if file.endswith('zip'):\n",
    "            with zipfile.ZipFile(os.path.join(root,file), 'r') as zip_ref:\n",
    "                zip_ref.extractall(r'C:\\Users\\s3309\\Desktop\\Investment\\html_files')\n",
    "                zip_ref.close()"
   ]
  },
  {
   "cell_type": "code",
   "execution_count": 29,
   "metadata": {},
   "outputs": [],
   "source": [
    "xml_df=pd.DataFrame()\n",
    "html_df=pd.DataFrame()\n",
    "\n",
    "for root, dirs, files in os.walk(r\"C:\\Users\\s3309\\Desktop\\Investment\\todo\"):\n",
    "    for f in files[:30]:\n",
    "        filename=f.split('.')[0]\n",
    "        filename=filename.split('-')\n",
    "        comp=filename[-2]\n",
    "        qtr=filename[-1]\n",
    "        abspath=os.path.join(root,f)\n",
    "\n",
    "        if f.endswith('.xml'):\n",
    "            temp=xml_preprocess(abspath)\n",
    "            temp['Comp']=comp\n",
    "            temp['Qtr']=qtr\n",
    "            xml_df=pd.concat([xml_df,temp])\n",
    "        else:\n",
    "            temp=html_preprocess(abspath)\n",
    "            temp['Comp']=comp\n",
    "            temp['Qtr']=qtr\n",
    "            html_df=pd.concat([html_df,temp])         \n",
    "            \n"
   ]
  },
  {
   "cell_type": "code",
   "execution_count": 30,
   "metadata": {},
   "outputs": [],
   "source": [
    "html_df['$']=html_df['$'].replace(r'^\\(','-',regex=True)\n",
    "html_df['$']=html_df['$'].replace(r',|\\)','',regex=True).astype(float)\n",
    "html_df['$']=html_df['$'].apply(lambda x:x*1000)"
   ]
  },
  {
   "cell_type": "code",
   "execution_count": 31,
   "metadata": {},
   "outputs": [],
   "source": [
    "html_df['Mapping Col']=html_df['Subject'].apply(lambda x:re.sub(' ','',x).lower())\n",
    "subcate_d={subject:subcate for subject,subcate in zip(html_df['Mapping Col'],html_df['Sub-Category'])}"
   ]
  },
  {
   "cell_type": "code",
   "execution_count": 32,
   "metadata": {},
   "outputs": [],
   "source": [
    "xml_df['Mapping Col']=xml_df['Subject'].apply(lambda x:x.lower())\n",
    "xml_df['Sub-Category']=xml_df['Mapping Col'].map(subcate_d)"
   ]
  },
  {
   "cell_type": "code",
   "execution_count": 34,
   "metadata": {},
   "outputs": [
    {
     "data": {
      "text/plain": [
       "26851"
      ]
     },
     "execution_count": 34,
     "metadata": {},
     "output_type": "execute_result"
    }
   ],
   "source": [
    "import sqlite3\n",
    "\n",
    "conn=sqlite3.connect('test')\n",
    "xml_df.to_sql('XML_DF',conn)"
   ]
  },
  {
   "cell_type": "code",
   "execution_count": 7,
   "metadata": {},
   "outputs": [],
   "source": [
    "import test\n",
    "from itertools import repeat\n",
    "import pandas as pd\n",
    "import multiprocessing\n",
    "\n",
    "xml_df=pd.DataFrame()\n",
    "html_df=pd.DataFrame()\n",
    "for root, dirs, files in os.walk(r\"C:\\Users\\s3309\\Desktop\\Investment\\html_files\"):\n",
    "    file_list=files\n",
    "\n",
    "with multiprocessing.Pool(8) as p:\n",
    "    result=p.map(test.file_process,file_list[:30])\n",
    "\n",
    "for i,n in enumerate(result):\n",
    "\n",
    "    if 'Sub-Category' in n.columns:\n",
    "        html_df=pd.concat([html_df,n])\n",
    "    else:\n",
    "        xml_df=pd.concat([xml_df,n])\n",
    "\n",
    "import sqlite3\n",
    "\n",
    "conn=sqlite3.connect('test')\n",
    "html_df.to_sql('HTML_DF',conn)\n",
    "xml_df.to_sql('XML_DF',conn)\n",
    "\n"
   ]
  },
  {
   "cell_type": "code",
   "execution_count": 17,
   "metadata": {},
   "outputs": [
    {
     "data": {
      "text/plain": [
       "-100.0"
      ]
     },
     "execution_count": 17,
     "metadata": {},
     "output_type": "execute_result"
    }
   ],
   "source": [
    "float('-100')"
   ]
  },
  {
   "cell_type": "code",
   "execution_count": 6,
   "metadata": {},
   "outputs": [
    {
     "name": "stdout",
     "output_type": "stream",
     "text": [
      "Help on method Pool in module multiprocessing.context:\n",
      "\n",
      "Pool(processes=None, initializer=None, initargs=(), maxtasksperchild=None) method of multiprocessing.context.DefaultContext instance\n",
      "    Returns a process pool object\n",
      "\n"
     ]
    }
   ],
   "source": [
    "help(multiprocessing.Pool)"
   ]
  },
  {
   "cell_type": "code",
   "execution_count": 41,
   "metadata": {},
   "outputs": [],
   "source": [
    "xml_comp=[x for x in xml_df['Comp'].unique() if not x in xml_df2['Comp'].unique()]\n",
    "html_comp=[x for x in html_df['Comp'].unique() if not x in html_df2['Comp'].unique()]\n",
    "\n",
    "\n",
    "\n",
    "\n"
   ]
  },
  {
   "cell_type": "code",
   "execution_count": 1,
   "metadata": {},
   "outputs": [
    {
     "ename": "",
     "evalue": "",
     "output_type": "error",
     "traceback": [
      "\u001b[1;31mCanceled future for execute_request message before replies were done"
     ]
    },
    {
     "ename": "",
     "evalue": "",
     "output_type": "error",
     "traceback": [
      "\u001b[1;31mThe Kernel crashed while executing code in the the current cell or a previous cell. Please review the code in the cell(s) to identify a possible cause of the failure. Click <a href='https://aka.ms/vscodeJupyterKernelCrash'>here</a> for more info. View Jupyter <a href='command:jupyter.viewOutput'>log</a> for further details."
     ]
    }
   ],
   "source": [
    "from multiprocessing import Pool\n",
    "\n",
    "def f(x):\n",
    "    return x*x\n",
    "\n",
    "if __name__ == '__main__':\n",
    "    with Pool(5) as p:\n",
    "        print(p.map(f, [1, 2, 3]))"
   ]
  },
  {
   "cell_type": "code",
   "execution_count": null,
   "metadata": {},
   "outputs": [],
   "source": [
    "'tifrs-fr0-m2-ci-ir-6032-2022Q2.html'\n",
    "'tifrs-fr0-m2-ci-ir-6033-2022Q2.html\n"
   ]
  },
  {
   "cell_type": "code",
   "execution_count": 6,
   "metadata": {},
   "outputs": [
    {
     "name": "stdout",
     "output_type": "stream",
     "text": [
      "The factors of 14326878 are [7163439, 2387813, 67, 35639, 157, 227]\n",
      "The factors of 45512257 are [45512257, 7, 6501751, 37, 175723]\n",
      "The factors of 34349663 are [34349663, 19, 1807877, 499, 3623]\n",
      "The factors of 28136668 are [7034167, 7, 1004881, 83, 12107]\n",
      "The factors of 26872128 are [419877, 139959, 46653, 15551]\n",
      "The factors of 49737876 are [12434469, 4144823, 103, 40241]\n",
      "The factors of 15761876 are [3940469, 13, 303113, 41, 7393]\n",
      "The factors of 4998695 are [4998695, 5, 999739, 13, 76903, 53, 1451]\n",
      "The factors of 14457694 are [7228847, 89, 81223]\n",
      "The factors of 41446658 are [20723329, 11, 1883939]\n",
      "The factors of 31564669 are [31564669]\n",
      "The factors of 5493766 are [2746883, 43, 63881, 127, 503]\n",
      "The factors of 24691622 are [12345811]\n",
      "The factors of 30767224 are [3845903]\n",
      "The factors of 2827227 are [2827227, 942409, 13, 72493]\n",
      "The factors of 13199849 are [13199849, 13, 1015373, 193, 5261]\n",
      "The factors of 44158000 are [2759875, 5, 551975, 5, 110395, 5, 22079]\n",
      "The factors of 46646171 are [46646171, 11, 4240561, 13, 326197, 137, 2381]\n",
      "The factors of 36596788 are [9149197, 2243, 4079]\n",
      "The factors of 373669 are [373669]\n"
     ]
    }
   ],
   "source": [
    "import multiprocessing  \n",
    "import random\n",
    "from multiprocessing import Pool\n",
    "import defs\n",
    "\n",
    "if __name__ == '__main__':\n",
    "    pool = Pool()\n",
    "    to_factor = [ random.randint(100000, 50000000) for i in range(20)]\n",
    "    results = pool.map(defs.prime_factor, to_factor)\n",
    "    for value, factors in zip(to_factor, results):\n",
    "        print(\"The factors of {} are {}\".format(value, factors))"
   ]
  },
  {
   "cell_type": "code",
   "execution_count": 4,
   "metadata": {},
   "outputs": [
    {
     "name": "stdout",
     "output_type": "stream",
     "text": [
      "Here we start\n"
     ]
    },
    {
     "ename": "AttributeError",
     "evalue": "module 'test' has no attribute 'double'",
     "output_type": "error",
     "traceback": [
      "\u001b[1;31m---------------------------------------------------------------------------\u001b[0m",
      "\u001b[1;31mAttributeError\u001b[0m                            Traceback (most recent call last)",
      "\u001b[1;32m<ipython-input-4-6ecaecda4ffd>\u001b[0m in \u001b[0;36m<module>\u001b[1;34m\u001b[0m\n\u001b[1;32m----> 1\u001b[1;33m \u001b[0mdriver_func\u001b[0m\u001b[1;33m(\u001b[0m\u001b[1;33m)\u001b[0m\u001b[1;33m\u001b[0m\u001b[1;33m\u001b[0m\u001b[0m\n\u001b[0m",
      "\u001b[1;32m<ipython-input-3-abd1ebbb14db>\u001b[0m in \u001b[0;36mdriver_func\u001b[1;34m()\u001b[0m\n\u001b[0;32m      7\u001b[0m     \u001b[1;32mwith\u001b[0m \u001b[0mmultiprocessing\u001b[0m\u001b[1;33m.\u001b[0m\u001b[0mPool\u001b[0m\u001b[1;33m(\u001b[0m\u001b[0mPROCESSES\u001b[0m\u001b[1;33m)\u001b[0m \u001b[1;32mas\u001b[0m \u001b[0mpool\u001b[0m\u001b[1;33m:\u001b[0m\u001b[1;33m\u001b[0m\u001b[1;33m\u001b[0m\u001b[0m\n\u001b[0;32m      8\u001b[0m         \u001b[0mparams\u001b[0m \u001b[1;33m=\u001b[0m \u001b[1;33m[\u001b[0m\u001b[1;33m(\u001b[0m\u001b[1;36m1\u001b[0m\u001b[1;33m,\u001b[0m \u001b[1;33m)\u001b[0m\u001b[1;33m,\u001b[0m \u001b[1;33m(\u001b[0m\u001b[1;36m2\u001b[0m\u001b[1;33m,\u001b[0m \u001b[1;33m)\u001b[0m\u001b[1;33m,\u001b[0m \u001b[1;33m(\u001b[0m\u001b[1;36m3\u001b[0m\u001b[1;33m,\u001b[0m \u001b[1;33m)\u001b[0m\u001b[1;33m,\u001b[0m \u001b[1;33m(\u001b[0m\u001b[1;36m4\u001b[0m\u001b[1;33m,\u001b[0m \u001b[1;33m)\u001b[0m\u001b[1;33m]\u001b[0m\u001b[1;33m\u001b[0m\u001b[1;33m\u001b[0m\u001b[0m\n\u001b[1;32m----> 9\u001b[1;33m         \u001b[0mresults\u001b[0m \u001b[1;33m=\u001b[0m \u001b[1;33m[\u001b[0m\u001b[0mpool\u001b[0m\u001b[1;33m.\u001b[0m\u001b[0mapply_async\u001b[0m\u001b[1;33m(\u001b[0m\u001b[0mtest\u001b[0m\u001b[1;33m.\u001b[0m\u001b[0mdouble\u001b[0m\u001b[1;33m(\u001b[0m\u001b[1;33m)\u001b[0m\u001b[1;33m,\u001b[0m \u001b[0mp\u001b[0m\u001b[1;33m)\u001b[0m \u001b[1;32mfor\u001b[0m \u001b[0mp\u001b[0m \u001b[1;32min\u001b[0m \u001b[0mparams\u001b[0m\u001b[1;33m]\u001b[0m\u001b[1;33m\u001b[0m\u001b[1;33m\u001b[0m\u001b[0m\n\u001b[0m\u001b[0;32m     10\u001b[0m \u001b[1;33m\u001b[0m\u001b[0m\n\u001b[0;32m     11\u001b[0m         \u001b[1;32mfor\u001b[0m \u001b[0mr\u001b[0m \u001b[1;32min\u001b[0m \u001b[0mresults\u001b[0m\u001b[1;33m:\u001b[0m\u001b[1;33m\u001b[0m\u001b[1;33m\u001b[0m\u001b[0m\n",
      "\u001b[1;32m<ipython-input-3-abd1ebbb14db>\u001b[0m in \u001b[0;36m<listcomp>\u001b[1;34m(.0)\u001b[0m\n\u001b[0;32m      7\u001b[0m     \u001b[1;32mwith\u001b[0m \u001b[0mmultiprocessing\u001b[0m\u001b[1;33m.\u001b[0m\u001b[0mPool\u001b[0m\u001b[1;33m(\u001b[0m\u001b[0mPROCESSES\u001b[0m\u001b[1;33m)\u001b[0m \u001b[1;32mas\u001b[0m \u001b[0mpool\u001b[0m\u001b[1;33m:\u001b[0m\u001b[1;33m\u001b[0m\u001b[1;33m\u001b[0m\u001b[0m\n\u001b[0;32m      8\u001b[0m         \u001b[0mparams\u001b[0m \u001b[1;33m=\u001b[0m \u001b[1;33m[\u001b[0m\u001b[1;33m(\u001b[0m\u001b[1;36m1\u001b[0m\u001b[1;33m,\u001b[0m \u001b[1;33m)\u001b[0m\u001b[1;33m,\u001b[0m \u001b[1;33m(\u001b[0m\u001b[1;36m2\u001b[0m\u001b[1;33m,\u001b[0m \u001b[1;33m)\u001b[0m\u001b[1;33m,\u001b[0m \u001b[1;33m(\u001b[0m\u001b[1;36m3\u001b[0m\u001b[1;33m,\u001b[0m \u001b[1;33m)\u001b[0m\u001b[1;33m,\u001b[0m \u001b[1;33m(\u001b[0m\u001b[1;36m4\u001b[0m\u001b[1;33m,\u001b[0m \u001b[1;33m)\u001b[0m\u001b[1;33m]\u001b[0m\u001b[1;33m\u001b[0m\u001b[1;33m\u001b[0m\u001b[0m\n\u001b[1;32m----> 9\u001b[1;33m         \u001b[0mresults\u001b[0m \u001b[1;33m=\u001b[0m \u001b[1;33m[\u001b[0m\u001b[0mpool\u001b[0m\u001b[1;33m.\u001b[0m\u001b[0mapply_async\u001b[0m\u001b[1;33m(\u001b[0m\u001b[0mtest\u001b[0m\u001b[1;33m.\u001b[0m\u001b[0mdouble\u001b[0m\u001b[1;33m(\u001b[0m\u001b[1;33m)\u001b[0m\u001b[1;33m,\u001b[0m \u001b[0mp\u001b[0m\u001b[1;33m)\u001b[0m \u001b[1;32mfor\u001b[0m \u001b[0mp\u001b[0m \u001b[1;32min\u001b[0m \u001b[0mparams\u001b[0m\u001b[1;33m]\u001b[0m\u001b[1;33m\u001b[0m\u001b[1;33m\u001b[0m\u001b[0m\n\u001b[0m\u001b[0;32m     10\u001b[0m \u001b[1;33m\u001b[0m\u001b[0m\n\u001b[0;32m     11\u001b[0m         \u001b[1;32mfor\u001b[0m \u001b[0mr\u001b[0m \u001b[1;32min\u001b[0m \u001b[0mresults\u001b[0m\u001b[1;33m:\u001b[0m\u001b[1;33m\u001b[0m\u001b[1;33m\u001b[0m\u001b[0m\n",
      "\u001b[1;31mAttributeError\u001b[0m: module 'test' has no attribute 'double'"
     ]
    }
   ],
   "source": [
    "driver_func()"
   ]
  },
  {
   "cell_type": "code",
   "execution_count": 49,
   "metadata": {},
   "outputs": [],
   "source": [
    "logging.getLogger().setLevel(logging.INFO)"
   ]
  }
 ],
 "metadata": {
  "kernelspec": {
   "display_name": "dlenv",
   "language": "python",
   "name": "dlenv"
  },
  "language_info": {
   "codemirror_mode": {
    "name": "ipython",
    "version": 3
   },
   "file_extension": ".py",
   "mimetype": "text/x-python",
   "name": "python",
   "nbconvert_exporter": "python",
   "pygments_lexer": "ipython3",
   "version": "3.9.5"
  },
  "orig_nbformat": 4
 },
 "nbformat": 4,
 "nbformat_minor": 2
}
