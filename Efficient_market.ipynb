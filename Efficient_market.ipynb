{
 "cells": [
  {
   "cell_type": "code",
   "execution_count": null,
   "metadata": {},
   "outputs": [],
   "source": [
    "class Efficient_market():\n",
    "\n",
    "    '''\n",
    "    Metrits of unefficient market\n",
    "    1.Market prices are often wrong. \n",
    "      Because access to information and the analysis thereof are highly imperfect, \n",
    "      market prices are often far above or far below intrinsic values.\n",
    "\n",
    "    2.The risk-adjusted return on one asset class can be far out of line with those of other asset classes. \n",
    "      Because assets are often valued at other-than-fair prices, \n",
    "      an asset class can deliver a risk-adjusted return that is significantly too high (a free lunch) \n",
    "      or too low relative to other asset classes.\n",
    "\n",
    "    3.Some investors can consistently outperform others. \n",
    "      Because of the existence of (a) significant misvaluations and (b) differences among participants in terms of skill,\n",
    "      insight and information access, \n",
    "      it is possible for misvaluations to be identified and profited from with regularity.\n",
    "\n",
    "    4.Bottom line: Inefficiency is a necessary condition for superior investing. \n",
    "      Attempting to outperform in a perfectly efficient market is like flipping a fair coin: the best you can hope for is fifty-fifty. \n",
    "      For investors to get an edge, \n",
    "      there have to be inefficiencies in the underlying process—imperfections, mispricings—to take advantage of.\n",
    "\n",
    "    '''\n",
    "\n",
    "    def self():\n",
    "        return ''"
   ]
  }
 ],
 "metadata": {
  "language_info": {
   "name": "python"
  },
  "orig_nbformat": 4
 },
 "nbformat": 4,
 "nbformat_minor": 2
}
